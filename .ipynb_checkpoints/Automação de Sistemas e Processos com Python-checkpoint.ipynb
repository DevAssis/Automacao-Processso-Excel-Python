{
 "cells": [
  {
   "cell_type": "markdown",
   "metadata": {},
   "source": [
    "# Automação de Sistemas e Processos com Python\n",
    "\n",
    "### Desafio:\n",
    "\n",
    "Todos os dias, o nosso sistema atualiza as vendas do dia anterior.\n",
    "O seu trabalho diário, como analista, é enviar um e-mail para a diretoria, assim que começar a trabalhar, com o faturamento e a quantidade de produtos vendidos no dia anterior\n",
    "\n",
    "E-mail da diretoria: seugmail@gmail.com<br>\n",
    "Local onde o sistema disponibiliza as vendas do dia anterior: https://drive.google.com/drive/folders/1yyaDYec9WTfkZ-A-G2iE1vksoAwXUvcL\n",
    "\n",
    "Para resolver isso, vamos usar o pyautogui, uma biblioteca de automação de comandos do mouse e do teclado em conjunto com o webbrowser"
   ]
  },
  {
   "cell_type": "code",
   "execution_count": null,
   "metadata": {
    "scrolled": false
   },
   "outputs": [],
   "source": [
    "!pip install pyautogui\n",
    "!pip install pyperclip"
   ]
  },
  {
   "cell_type": "code",
   "execution_count": 24,
   "metadata": {},
   "outputs": [],
   "source": [
    "#importar a bibliotecas necessarias\n",
    "import pandas as pd\n",
    "import pyautogui\n",
    "import pyperclip\n",
    "import time\n",
    "import webbrowser"
   ]
  },
  {
   "cell_type": "code",
   "execution_count": 25,
   "metadata": {},
   "outputs": [],
   "source": [
    "#acessar o servidor /ou local da base de dados\n",
    "webbrowser.open_new('https://drive.google.com/drive/folders/1yyaDYec9WTfkZ-A-G2iE1vksoAwXUvcL')\n",
    "pyautogui.PAUSE = 1\n",
    "time.sleep(3)\n",
    "pyautogui.click(x=359, y=300)\n",
    "time.sleep(2)\n",
    "pyautogui.click(x=354, y=363)\n",
    "pyautogui.click(x=1162, y=195)\n",
    "pyautogui.click(x=982, y=559)\n",
    "time.sleep(10)"
   ]
  },
  {
   "cell_type": "code",
   "execution_count": null,
   "metadata": {},
   "outputs": [],
   "source": []
  },
  {
   "cell_type": "markdown",
   "metadata": {},
   "source": [
    "### Vamos agora ler o arquivo baixado para pegar os indicadores\n",
    "\n",
    "- Faturamento\n",
    "- Quantidade de Produtos"
   ]
  },
  {
   "cell_type": "code",
   "execution_count": null,
   "metadata": {
    "scrolled": true
   },
   "outputs": [],
   "source": [
    "#lendo a base de dados no seu cliente\n",
    "tabela = pd.read_excel(r'C:\\Users\\Nilton\\Documents\\Projetos Python\\Aula 1- Automação com integracao Excel- HP\\Vendas - Dez.xlsx')\n",
    "#caculando a base de dados\n",
    "faturamento = tabela['Valor Final'].sum()\n",
    "qtd_Produtos = tabela['Quantidade'].sum()"
   ]
  },
  {
   "cell_type": "markdown",
   "metadata": {},
   "source": [
    "### Vamos agora enviar um e-mail pelo gmail ou o navegador padrão."
   ]
  },
  {
   "cell_type": "code",
   "execution_count": 27,
   "metadata": {},
   "outputs": [],
   "source": [
    "#abrir o link do email\n",
    "webbrowser.open_new('https://mail.google.com/mail/?tab=rm&authuser=0&ogbl')\n",
    "time.sleep(3)\n",
    "pyautogui.click(x=78, y=203)\n",
    "pyautogui.write('dev.assis.py@gmail.com')\n",
    "pyautogui.press('tab')\n",
    "pyautogui.press('tab')\n",
    "#escrever o assunto\n",
    "pyperclip.copy('Relatório de Vendas')\n",
    "pyautogui.hotkey('ctrl', 'v')\n",
    "pyautogui.press('tab')\n",
    "#corpo de email:\n",
    "texto = f'''\n",
    "Prezados, bom dia\n",
    "\n",
    "O faturamento de ontem foi de: R${faturamento:,.2f}\n",
    "A quantidade de produtos foi de: {qtd_Produtos:,}\n",
    "\n",
    "Abs\n",
    "DevAssis\n",
    "'''\n",
    "pyperclip.copy(texto)\n",
    "pyautogui.hotkey('ctrl','v')\n",
    "pyautogui.hotkey('ctrl', 'enter')"
   ]
  },
  {
   "cell_type": "markdown",
   "metadata": {},
   "source": [
    "#### Use esse código para descobrir qual a posição de um item que queira clicar\n",
    "\n",
    "- Lembre-se: a posição na sua tela é diferente da posição na minha tela"
   ]
  },
  {
   "cell_type": "code",
   "execution_count": null,
   "metadata": {},
   "outputs": [],
   "source": [
    "time.sleep(5)\n",
    "pyautogui.position()"
   ]
  },
  {
   "cell_type": "code",
   "execution_count": null,
   "metadata": {},
   "outputs": [],
   "source": []
  }
 ],
 "metadata": {
  "kernelspec": {
   "display_name": "Python 3 (ipykernel)",
   "language": "python",
   "name": "python3"
  },
  "language_info": {
   "codemirror_mode": {
    "name": "ipython",
    "version": 3
   },
   "file_extension": ".py",
   "mimetype": "text/x-python",
   "name": "python",
   "nbconvert_exporter": "python",
   "pygments_lexer": "ipython3",
   "version": "3.9.7"
  }
 },
 "nbformat": 4,
 "nbformat_minor": 4
}
